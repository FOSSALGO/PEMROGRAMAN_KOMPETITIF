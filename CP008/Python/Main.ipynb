a = int(input())
b = int(input())
if(a<b):
  print ("MIN = ",a)
  print ("MAX = ",b)
else:
  print ("MIN = ",b)
  print ("MAX = ",a)
